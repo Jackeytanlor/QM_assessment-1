{
 "cells": [
  {
   "cell_type": "code",
   "execution_count": null,
   "id": "5282f2cb-94a7-4a58-90ed-b01eb5807ea3",
   "metadata": {},
   "outputs": [],
   "source": [
    "import pandas as pd\n",
    "from sklearn.linear_model import LinearRegression\n",
    "import statsmodels.api as sm\n",
    "\n",
    "import numpy as np\n",
    "\n",
    "import sklearn\n",
    "from sklearn.linear_model import LogisticRegression\n",
    "from sklearn.metrics import confusion_matrix\n",
    "\n",
    "import matplotlib.pyplot as plt\n",
    "import seaborn as sn\n",
    "\n",
    "pd.set_option('display.max_rows', 300) \n",
    "pd.options.display.float_format = '{:40,.4f}'.format \n",
    "plt.style.use('ggplot') \n",
    "%matplotlib inline"
   ]
  },
  {
   "cell_type": "markdown",
   "id": "b6839d12-31eb-4676-a7e6-cd73fbd248f8",
   "metadata": {},
   "source": [
    "# Read the file"
   ]
  },
  {
   "cell_type": "code",
   "execution_count": null,
   "id": "71ec6691-29b5-41bb-be74-eaca117f309a",
   "metadata": {},
   "outputs": [],
   "source": [
    "LONDON = pd.read_csv('LONDON.csv')\n",
    "LONDONDATA=LONDON.drop(['Unnamed: 0','year'], axis=1)"
   ]
  },
  {
   "cell_type": "markdown",
   "id": "e2280c5f-8ff8-4227-8068-1cf549032ee2",
   "metadata": {},
   "source": [
    "# Pearson Correlation Analysis"
   ]
  },
  {
   "cell_type": "code",
   "execution_count": null,
   "id": "342bff5a-e38f-4864-a0c8-365f265824a9",
   "metadata": {},
   "outputs": [],
   "source": [
    "df = LONDONDATA\n",
    "plt.rcParams[\"axes.grid\"] = False\n",
    "f = plt.figure(figsize=(19, 15))\n",
    "plt.matshow(df.corr(), fignum=f.number)\n",
    "plt.xticks(range(df.shape[1]), df.columns, fontsize=14, rotation=45)\n",
    "plt.yticks(range(df.shape[1]), df.columns, fontsize=14)\n",
    "cb = plt.colorbar()\n",
    "cb.ax.tick_params(labelsize=15) \n",
    "plt.savefig('./MATRIX.png')\n",
    "plt.title('Pearson Correlation Matrix', fontsize=16)\n",
    "RELAT=df.corr()\n",
    "RELAT.to_csv('./CORELATION.csv')"
   ]
  },
  {
   "cell_type": "markdown",
   "id": "e4189227-da68-46b2-95ec-cc3a87cac0b1",
   "metadata": {},
   "source": [
    "# Regression Analysis"
   ]
  },
  {
   "cell_type": "code",
   "execution_count": null,
   "id": "fa218bc3-1cc2-4f0e-a181-1a2ffb23dede",
   "metadata": {},
   "outputs": [],
   "source": [
    "model1 = sm.formula.ols('cases_total ~ pop_total + male_to_female + total_budget + clean_air + clean_environment + health_training + school_awareness + media_awareness+sub_counselling', LONDONLOC).fit()\n",
    "model1.summary()"
   ]
  },
  {
   "cell_type": "markdown",
   "id": "45338596-3225-444b-96cd-b41173a905f5",
   "metadata": {},
   "source": [
    "# VIF"
   ]
  },
  {
   "cell_type": "code",
   "execution_count": null,
   "id": "7006bebe-fa6e-4065-85e3-88ceaac2a576",
   "metadata": {},
   "outputs": [],
   "source": [
    "from statsmodels.stats.outliers_influence import variance_inflation_factor \n",
    "from statsmodels.tools.tools import add_constant\n",
    "\n",
    "def drop_column_using_vif_(df, thresh=5):\n",
    "    while True:\n",
    "        df_with_const = add_constant(df)\n",
    "\n",
    "        vif_df = pd.Series([variance_inflation_factor(df_with_const.values, i) \n",
    "               for i in range(df_with_const.shape[1])], name= \"VIF\",\n",
    "              index=df_with_const.columns).to_frame()\n",
    "\n",
    "        vif_df = vif_df.drop('const')\n",
    "        if vif_df.VIF.max() > thresh:\n",
    "            index_to_drop = vif_df.index[vif_df.VIF == vif_df.VIF.max()].tolist()[0]\n",
    "            print('Dropping: {}'.format(index_to_drop))\n",
    "            df = df.drop(columns = index_to_drop)\n",
    "        else:\n",
    "            break\n",
    "\n",
    "    return df\n",
    "model_new = drop_column_using_vif_(LONDONLOC.drop('cases_total', axis=1))"
   ]
  },
  {
   "cell_type": "markdown",
   "id": "fef00ab0-e2f9-46fa-b802-821fb4e20218",
   "metadata": {},
   "source": [
    "# Do the Regression Analysis Again"
   ]
  },
  {
   "cell_type": "code",
   "execution_count": null,
   "id": "6e13025d-8f88-4553-aac3-473300bca683",
   "metadata": {},
   "outputs": [],
   "source": [
    "model_afterVIF = sm.formula.ols('cases_total ~ pop_total + male_to_female + clean_air + clean_environment', LONDONLOC).fit()\n",
    "model_afterVIF.sumary()"
   ]
  },
  {
   "cell_type": "code",
   "execution_count": null,
   "id": "96d48c07-6d99-44c7-8a80-f89bd604b5ca",
   "metadata": {},
   "outputs": [],
   "source": [
    "plt.scatter(LONDONmodel1.fittedvalues, LONDONmodel.resid)\n",
    "plt.hlines(0,0,1300,color=\"black\",linestyles=\"--\")\n",
    "plt.xlabel('cases of childhood obesity')\n",
    "plt.ylabel('Residual')\n",
    "plt.savefig('./Residual_y.png')\n",
    "################################\n",
    "fig = plt.figure(figsize=(12,8))\n",
    "fig = sm.graphics.plot_regress_exog(LONDONmodel1, 'clean_environment', fig=fig)\n",
    "plt.savefig('./environment.png')"
   ]
  }
 ],
 "metadata": {
  "kernelspec": {
   "display_name": "Python 3 (ipykernel)",
   "language": "python",
   "name": "python3"
  },
  "language_info": {
   "codemirror_mode": {
    "name": "ipython",
    "version": 3
   },
   "file_extension": ".py",
   "mimetype": "text/x-python",
   "name": "python",
   "nbconvert_exporter": "python",
   "pygments_lexer": "ipython3",
   "version": "3.9.6"
  }
 },
 "nbformat": 4,
 "nbformat_minor": 5
}
